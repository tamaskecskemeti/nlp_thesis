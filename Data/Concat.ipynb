{
 "cells": [
  {
   "cell_type": "code",
   "execution_count": 1,
   "metadata": {},
   "outputs": [
    {
     "name": "stdout",
     "output_type": "stream",
     "text": [
      "CSV file 'news_and_summaries.csv' created successfully.\n"
     ]
    }
   ],
   "source": [
    "import os\n",
    "import csv\n",
    "\n",
    "# Directory paths for news and summary text files\n",
    "news_directory = 'News'  # Replace with your actual path\n",
    "summary_directory = 'Summaries'  # Replace with your actual path\n",
    "\n",
    "# List all files in the news and summary directories\n",
    "news_files = sorted(os.listdir(news_directory))\n",
    "summary_files = sorted(os.listdir(summary_directory))\n",
    "\n",
    "# Check if both directories have the same number of files\n",
    "if len(news_files) != len(summary_files):\n",
    "    print(\"Mismatch in the number of news articles and summaries.\")\n",
    "else:\n",
    "    # Prepare data for CSV\n",
    "    data = []\n",
    "\n",
    "    for news_file, summary_file in zip(news_files, summary_files):\n",
    "        with open(os.path.join(news_directory, news_file), 'r', encoding='utf-8') as nf, \\\n",
    "             open(os.path.join(summary_directory, summary_file), 'r', encoding='utf-8') as sf:\n",
    "            news_text = nf.read().strip()\n",
    "            summary_text = sf.read().strip()\n",
    "\n",
    "            data.append([news_text, summary_text])\n",
    "\n",
    "    # Write to CSV\n",
    "    csv_filename = 'news_and_summaries.csv'\n",
    "    with open(csv_filename, 'w', newline='', encoding='utf-8') as csvfile:\n",
    "        writer = csv.writer(csvfile)\n",
    "        writer.writerow(['text', 'summary'])  # Column headers\n",
    "        writer.writerows(data)\n",
    "\n",
    "    print(f\"CSV file '{csv_filename}' created successfully.\")"
   ]
  },
  {
   "cell_type": "code",
   "execution_count": null,
   "metadata": {},
   "outputs": [],
   "source": []
  }
 ],
 "metadata": {
  "kernelspec": {
   "display_name": "Python 3",
   "language": "python",
   "name": "python3"
  },
  "language_info": {
   "codemirror_mode": {
    "name": "ipython",
    "version": 3
   },
   "file_extension": ".py",
   "mimetype": "text/x-python",
   "name": "python",
   "nbconvert_exporter": "python",
   "pygments_lexer": "ipython3",
   "version": "3.11.2"
  }
 },
 "nbformat": 4,
 "nbformat_minor": 2
}
